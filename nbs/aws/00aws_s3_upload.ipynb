{
 "cells": [
  {
   "cell_type": "code",
   "execution_count": 4,
   "metadata": {},
   "outputs": [],
   "source": [
    "import boto3\n",
    "import os"
   ]
  },
  {
   "cell_type": "code",
   "execution_count": null,
   "metadata": {},
   "outputs": [],
   "source": [
    "profile_name = 'default'"
   ]
  },
  {
   "cell_type": "code",
   "execution_count": 2,
   "metadata": {},
   "outputs": [],
   "source": [
    "profile = boto3.Session(profile_name=profile_name)"
   ]
  },
  {
   "cell_type": "code",
   "execution_count": 3,
   "metadata": {},
   "outputs": [],
   "source": [
    "s3_resource = profile.resource('s3')"
   ]
  },
  {
   "cell_type": "code",
   "execution_count": null,
   "metadata": {},
   "outputs": [],
   "source": [
    "pwd"
   ]
  },
  {
   "cell_type": "code",
   "execution_count": null,
   "metadata": {},
   "outputs": [],
   "source": [
    "path = '/path/to/your/dir/with/desired/files'"
   ]
  },
  {
   "cell_type": "code",
   "execution_count": 22,
   "metadata": {},
   "outputs": [],
   "source": [
    "os.chdir(path)"
   ]
  },
  {
   "cell_type": "code",
   "execution_count": null,
   "metadata": {},
   "outputs": [],
   "source": [
    "os.listdir()"
   ]
  },
  {
   "cell_type": "code",
   "execution_count": 18,
   "metadata": {},
   "outputs": [],
   "source": [
    "s3_client = profile.client('s3')"
   ]
  },
  {
   "cell_type": "code",
   "execution_count": 31,
   "metadata": {},
   "outputs": [],
   "source": [
    "# file format, bucket & key\n",
    "fn_type,b,k = '.csv','bucket_nm','key_nm'"
   ]
  },
  {
   "cell_type": "code",
   "execution_count": null,
   "metadata": {},
   "outputs": [],
   "source": [
    "# current working\n",
    "class To_s3:\n",
    "\n",
    "    def __init__(self, path, file_format, s3_client):\n",
    "        self.path = os.chdir(path)\n",
    "        self.file_format = file_format\n",
    "        self.client = s3_client\n",
    "\n",
    "    def upload_to_s3(self, upload_file_bucket, upload_file_key):\n",
    "        for file in os.listdir():\n",
    "            if self.file_format in file:\n",
    "                bucket = upload_file_bucket\n",
    "                key = upload_file_key + str(file)\n",
    "                self.client.upload_file(file, bucket, key)"
   ]
  },
  {
   "cell_type": "code",
   "execution_count": null,
   "metadata": {},
   "outputs": [],
   "source": [
    "to_s3 = To_s3(path, fn_type, s3_client)"
   ]
  },
  {
   "cell_type": "code",
   "execution_count": null,
   "metadata": {},
   "outputs": [],
   "source": [
    "%%time \n",
    "to_s3.upload_to_s3(b,k)"
   ]
  },
  {
   "cell_type": "code",
   "execution_count": null,
   "metadata": {},
   "outputs": [],
   "source": []
  },
  {
   "cell_type": "code",
   "execution_count": null,
   "metadata": {},
   "outputs": [],
   "source": [
    "# List comprehension?? Not tested yet\n",
    "class To_s3:\n",
    "\n",
    "    def __init__(self, path, file_format, s3_client):\n",
    "        self.path = os.chdir(path)\n",
    "        self.file_format = file_format\n",
    "        self.client = s3_client\n",
    "\n",
    "    def upload_to_s3(self, upload_file_bucket, upload_file_key):\n",
    "        [self.client.upload_file(file, upload_file_bucket, upload_file_key = upload_file_key + str(file)) for file in os.listdir() \n",
    "         if self.file_format in file]\n",
    "        return"
   ]
  },
  {
   "cell_type": "code",
   "execution_count": null,
   "metadata": {},
   "outputs": [],
   "source": [
    "# Looking to add condition to verify file object not already in bucket. Not tested yet \n",
    "class To_s3:\n",
    "\n",
    "    def __init__(self, path, file_format, s3_client, upload_file_bucket, upload_file_key):\n",
    "        self.path = os.chdir(path)\n",
    "        self.file_format = file_format\n",
    "        self.client = s3_client\n",
    "        self.contents = self.client.list_objects_v2(Bucket=upload_file_bucket, Prefix=upload_file_key)[\"Contents\"]\n",
    "        self.kl = [k['Key'] for k in self.contents]\n",
    "\n",
    "    def upload_to_s3(self, upload_file_bucket, upload_file_key):\n",
    "        for file in os.listdir():\n",
    "            if self.file_format in file:\n",
    "                bucket = upload_file_bucket\n",
    "                key = upload_file_key + str(file)\n",
    "                self.client.upload_file(file, bucket, key)"
   ]
  },
  {
   "cell_type": "code",
   "execution_count": 36,
   "metadata": {},
   "outputs": [],
   "source": [
    "prefix = 'existing/data/'"
   ]
  },
  {
   "cell_type": "code",
   "execution_count": 44,
   "metadata": {},
   "outputs": [],
   "source": [
    "resp_contents = s3_client.list_objects_v2(Bucket=b, Prefix=prefix)[\"Contents\"]"
   ]
  },
  {
   "cell_type": "code",
   "execution_count": 60,
   "metadata": {},
   "outputs": [
    {
     "data": {
      "text/plain": [
       "'data/01cboe_order/'"
      ]
     },
     "execution_count": 60,
     "metadata": {},
     "output_type": "execute_result"
    }
   ],
   "source": [
    "resp_contents['Key']"
   ]
  },
  {
   "cell_type": "code",
   "execution_count": null,
   "metadata": {},
   "outputs": [],
   "source": [
    "[k['Key'] for k in resp_contents]"
   ]
  },
  {
   "cell_type": "code",
   "execution_count": null,
   "metadata": {},
   "outputs": [],
   "source": []
  }
 ],
 "metadata": {
  "kernelspec": {
   "display_name": "Python 3",
   "language": "python",
   "name": "python3"
  },
  "language_info": {
   "codemirror_mode": {
    "name": "ipython",
    "version": 3
   },
   "file_extension": ".py",
   "mimetype": "text/x-python",
   "name": "python",
   "nbconvert_exporter": "python",
   "pygments_lexer": "ipython3",
   "version": "3.8.5"
  }
 },
 "nbformat": 4,
 "nbformat_minor": 4
}
